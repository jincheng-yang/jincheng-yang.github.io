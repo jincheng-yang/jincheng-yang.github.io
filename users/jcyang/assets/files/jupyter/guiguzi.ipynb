{
 "cells": [
  {
   "cell_type": "code",
   "execution_count": 21,
   "metadata": {},
   "outputs": [],
   "source": [
    "D = set([(a, b) for a in range(2, 100) for b in range(a + 1, 100)])"
   ]
  },
  {
   "cell_type": "code",
   "execution_count": 22,
   "metadata": {},
   "outputs": [],
   "source": [
    "s = lambda tup: tup[0] + tup[1]\n",
    "p = lambda tup: tup[0] * tup[1]"
   ]
  },
  {
   "cell_type": "code",
   "execution_count": 23,
   "metadata": {},
   "outputs": [],
   "source": [
    "def image(fun, dom):\n",
    "    ima = set([])\n",
    "    for d in dom:\n",
    "        ima.add(fun(d))\n",
    "    return ima\n",
    "\n",
    "def preimage(fun, dom, ran):\n",
    "    pre = set([])\n",
    "    for d in dom:\n",
    "        if fun(d) in ran:\n",
    "            pre.add(d)\n",
    "    return pre"
   ]
  },
  {
   "cell_type": "code",
   "execution_count": 24,
   "metadata": {},
   "outputs": [],
   "source": [
    "X = image(s, D)\n",
    "Y = image(p, D)"
   ]
  },
  {
   "cell_type": "code",
   "execution_count": 25,
   "metadata": {},
   "outputs": [],
   "source": [
    "X1 = [m for m in X if len(preimage(s, D, [m])) > 1]\n",
    "Y1 = [n for n in Y if len(preimage(p, D, [n])) > 1]\n",
    "D1 = preimage(p, D, Y1)"
   ]
  },
  {
   "cell_type": "code",
   "execution_count": 30,
   "metadata": {},
   "outputs": [
    {
     "data": {
      "text/plain": [
       "{11, 17, 23, 27, 29, 35, 37, 41, 47, 53}"
      ]
     },
     "execution_count": 30,
     "metadata": {},
     "output_type": "execute_result"
    }
   ],
   "source": [
    "X2 = set([m for m in X1 if preimage(s, D, [m]).issubset(D1)])\n",
    "D2 = preimage(s, D, X2)\n",
    "Y2 = image(p, D2)\n",
    "X2"
   ]
  },
  {
   "cell_type": "code",
   "execution_count": 27,
   "metadata": {},
   "outputs": [],
   "source": [
    "Y3 = set([n for n in Y2 if len(preimage(p, D2, [n])) == 1])\n",
    "D3 = preimage(p, D2, Y3)\n",
    "X3 = image(s, D3)"
   ]
  },
  {
   "cell_type": "code",
   "execution_count": 28,
   "metadata": {},
   "outputs": [],
   "source": [
    "X4 = set([m for m in X3 if len(preimage(s, D3, [m])) == 1])\n",
    "D4 = preimage(s, D3, X4)\n",
    "Y4 = image(p, D4)"
   ]
  },
  {
   "cell_type": "code",
   "execution_count": 29,
   "metadata": {},
   "outputs": [
    {
     "data": {
      "text/plain": [
       "({17}, {52}, {(4, 13)})"
      ]
     },
     "execution_count": 29,
     "metadata": {},
     "output_type": "execute_result"
    }
   ],
   "source": [
    "(X4, Y4, D4)"
   ]
  }
 ],
 "metadata": {
  "kernelspec": {
   "display_name": "Python 3",
   "language": "python",
   "name": "python3"
  },
  "language_info": {
   "codemirror_mode": {
    "name": "ipython",
    "version": 3
   },
   "file_extension": ".py",
   "mimetype": "text/x-python",
   "name": "python",
   "nbconvert_exporter": "python",
   "pygments_lexer": "ipython3",
   "version": "3.7.4"
  }
 },
 "nbformat": 4,
 "nbformat_minor": 2
}
