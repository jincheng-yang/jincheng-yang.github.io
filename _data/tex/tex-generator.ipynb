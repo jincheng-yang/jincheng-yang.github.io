{
 "cells": [
  {
   "cell_type": "code",
   "execution_count": 2,
   "source": [
    "import json"
   ],
   "outputs": [],
   "metadata": {}
  },
  {
   "cell_type": "code",
   "execution_count": 3,
   "source": [
    "with open('../honor.json') as f:\n",
    "    honor = json.load(f)\n",
    "    s_arr = ['\\honor{' + h['title'] + '}{' + h['from'] + '}{' + h['month'] + '}{' + h['year'] + '}' for h in honor[\"Honor\"]]\n",
    "\n",
    "    with open('honor.tex', 'w') as o:\n",
    "        for s in s_arr:\n",
    "            o.write(s)\n",
    "            o.write('\\n')"
   ],
   "outputs": [],
   "metadata": {}
  },
  {
   "cell_type": "code",
   "execution_count": 4,
   "source": [
    "with open('../conference.json') as f:\n",
    "    conference = json.load(f)\n",
    "    s_arr = ['\\conference{' + h['Title'] + '}{' + h['Start'] + '}{' + h['End'] + '}{' + h['Location'] + '}{' + h['URL'] + '}{' + h['Type'] + '}' for h in conference[\"Conference\"]]\n",
    "\n",
    "    with open('conference.tex', 'w') as o:\n",
    "        for s in s_arr:\n",
    "            o.write(s)\n",
    "            o.write('\\n')"
   ],
   "outputs": [],
   "metadata": {}
  },
  {
   "cell_type": "code",
   "execution_count": 5,
   "source": [
    "import re\n",
    "\n",
    "with open('../talk.json') as f:\n",
    "    talk = json.load(f)\n",
    "    s_arr = ['\\\\talk{' + h['Title'] + '}{' + h['Date'] + '}{' + h['Location'] + '}{' + h['Series'] + '}{' + re.sub('<a.*</a>', '', h['Abstract']) + '}' for h in talk[\"Talk\"]]\n",
    "    s_invited = ['\\\\talk{' + h['Title'] + '}{' + h['Date'] + '}{' + h['Location'] + '}{' + h['Series'] + '}{' + h['Session'] + '}{' + re.sub('<a.*</a>', '', h['Abstract']) + '}' for h in talk[\"Talk\"] if 'Type' in h and h['Type'] == 'invited']\n",
    "    s_not_invited = ['\\\\talk{' + h['Title'] + '}{' + h['Date'] + '}{' + h['Location'] + '}{' + h['Series'] + '}{' + re.sub('<a.*</a>', '', h['Abstract']) + '}' for h in talk[\"Talk\"] if 'Type' not in h or h['Type'] != 'invited']\n",
    "\n",
    "    with open('talk.tex', 'w') as o:\n",
    "        for s in s_arr:\n",
    "            o.write(s)\n",
    "            o.write('\\n')\n",
    "\n",
    "    with open('talk-invited.tex', 'w') as o, open('talk-not-invited.tex', 'w') as o2:\n",
    "        for s in s_invited:\n",
    "            o.write(s)\n",
    "            o.write('\\n')\n",
    "        for s in s_not_invited:\n",
    "            o2.write(s)\n",
    "            o2.write('\\n')\n"
   ],
   "outputs": [],
   "metadata": {}
  },
  {
   "cell_type": "code",
   "execution_count": 6,
   "source": [
    "with open('../teach.json') as f:\n",
    "    teach = json.load(f)\n",
    "    s_arr = ['\\\\teach{' + h['Code'] + '}{' + h['Course'] + '}{' + h['Season'] + '}{' + h['Year'] + '}' for h in teach[\"Teach\"]]\n",
    "\n",
    "    with open('teach.tex', 'w') as o:\n",
    "        for s in s_arr:\n",
    "            o.write(s)\n",
    "            o.write('\\n')"
   ],
   "outputs": [],
   "metadata": {}
  },
  {
   "cell_type": "code",
   "execution_count": 7,
   "source": [
    "with open('../teach.json') as f:\n",
    "    teach = json.load(f)\n",
    "    s_arr = ['\\\\drp{' + h['Name'] + '}{' + h['Topic'] + '}{' + h['Season'] + '}{' + h['Year'] + '}' for h in teach[\"DRP\"]]\n",
    "\n",
    "    with open('drp.tex', 'w') as o:\n",
    "        for s in s_arr:\n",
    "            o.write(s)\n",
    "            o.write('\\n')"
   ],
   "outputs": [],
   "metadata": {}
  },
  {
   "cell_type": "code",
   "execution_count": 4,
   "source": [
    "with open('../education.json') as f:\n",
    "    education = json.load(f)\n",
    "    s_arr = ['\\\\education{' + h['Program'] + '}{' + h['School'] + '}{' + h['Start'] + '}{' + h['End'] + '}{' + h['Period'] + '}{' + h['Location'] + '}{' + h['Degree'] + '}{' + (h.get('Note', '')) + '}' for h in education[\"Education\"]]\n",
    "\n",
    "    with open('education.tex', 'w') as o:\n",
    "        for s in s_arr:\n",
    "            o.write(s)\n",
    "            o.write('\\n')"
   ],
   "outputs": [],
   "metadata": {}
  },
  {
   "cell_type": "code",
   "execution_count": 8,
   "source": [
    "# with open('../talk.json') as f:\n",
    "#     talk = json.load(f)\n",
    "#     t = talk['Talk']\n",
    "#     t.reverse()\n",
    "#     talk['Talk'] = t\n",
    "\n",
    "# with open('../talk_r.json', 'w') as f:\n",
    "#     json.dump(talk, f)"
   ],
   "outputs": [],
   "metadata": {}
  }
 ],
 "metadata": {
  "orig_nbformat": 4,
  "language_info": {
   "name": "python",
   "version": "3.7.9",
   "mimetype": "text/x-python",
   "codemirror_mode": {
    "name": "ipython",
    "version": 3
   },
   "pygments_lexer": "ipython3",
   "nbconvert_exporter": "python",
   "file_extension": ".py"
  },
  "kernelspec": {
   "name": "python3",
   "display_name": "Python 3.7.9 64-bit ('tf': conda)"
  },
  "interpreter": {
   "hash": "309fd904771095eda871885fd4badbf89cba807ff14763db0315d39abd745884"
  }
 },
 "nbformat": 4,
 "nbformat_minor": 2
}