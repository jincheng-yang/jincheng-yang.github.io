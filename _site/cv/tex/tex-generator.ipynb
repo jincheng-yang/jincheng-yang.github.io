{
 "cells": [
  {
   "cell_type": "code",
   "execution_count": 2,
   "metadata": {},
   "outputs": [],
   "source": [
    "import json\n",
    "json_path = '../../_data/'\n",
    "tex_path = 'section/'"
   ]
  },
  {
   "cell_type": "code",
   "execution_count": 3,
   "metadata": {},
   "outputs": [],
   "source": [
    "with open(json_path + 'honor.json') as f:\n",
    "    honor = json.load(f)\n",
    "    s_arr = ['\\honor{' + h['title'] + '}{' + h['from'] + '}{' + h['month'] + '}{' + h['year'] + '}' for h in honor[\"Honor\"]]\n",
    "\n",
    "    with open(tex_path + 'honor.tex', 'w') as o:\n",
    "        for s in s_arr:\n",
    "            o.write(s)\n",
    "            o.write('\\n')"
   ]
  },
  {
   "cell_type": "code",
   "execution_count": 4,
   "metadata": {},
   "outputs": [],
   "source": [
    "with open(json_path + 'conference.json') as f:\n",
    "    conference = json.load(f)\n",
    "    s_arr = ['\\conference{' + h['Title'] + '}{' + h['Start'] + '}{' + h['End'] + '}{' + h['Location'] + '}{' + h['URL'] + '}{' + h['Type'] + '}' for h in conference[\"Conference\"]]\n",
    "\n",
    "    with open(tex_path + 'conference.tex', 'w') as o:\n",
    "        for s in s_arr:\n",
    "            o.write(s)\n",
    "            o.write('\\n')"
   ]
  },
  {
   "cell_type": "code",
   "execution_count": 3,
   "metadata": {},
   "outputs": [],
   "source": [
    "import re\n",
    "\n",
    "with open(json_path + 'talk.json') as f:\n",
    "    talk = json.load(f)\n",
    "    s_arr = ['\\\\talk{' + h['Title'] + '}{' + h['Date'] + '}{' + h['Location'] + '}{' + h['Series'].replace('<sup>', '\\\\textsuperscript{').replace('</sup>', '}').replace('&', '\\&') + '}{' + '}{' + re.sub('<a.*</a>', '', h['Abstract']) + '}' for h in talk[\"Talk\"]]\n",
    "    # s_arr = ['\\\\talk{' + h['Title'] + '}{' + h['Date'] + '}{' + h['Location'] + '}{' + h['Series'].replace('<sup>', '\\\\textsuperscript{').replace('</sup>', '}').replace('&', '\\&') + '}{' + '}{' + '}' for h in talk[\"Talk\"]]\n",
    "    s_invited = [s for (s, h) in zip(s_arr, talk[\"Talk\"]) if 'Type' in h and h['Type'] == 'invited']\n",
    "    s_not_invited = [s for (s, h) in zip(s_arr, talk[\"Talk\"]) if 'Type' not in h or h['Type'] != 'invited']\n",
    "\n",
    "    with open(tex_path + 'talk.tex', 'w') as o:\n",
    "        for s in s_arr:\n",
    "            o.write(s)\n",
    "            o.write('\\n')\n",
    "\n",
    "    with open(tex_path + 'talk-invited.tex', 'w') as o, open(tex_path + 'talk-not-invited.tex', 'w') as o2:\n",
    "        for s in s_invited:\n",
    "            o.write(s)\n",
    "            o.write('\\n')\n",
    "        for s in s_not_invited:\n",
    "            o2.write(s)\n",
    "            o2.write('\\n')\n"
   ]
  },
  {
   "cell_type": "code",
   "execution_count": 5,
   "metadata": {},
   "outputs": [],
   "source": [
    "with open(json_path + 'teach.json') as f:\n",
    "    teach = json.load(f)\n",
    "    s_arr = ['\\\\teach{' + h['Code'] + '}{' + h['Course'] + '}{' + h['Season'] + '}{' + h['Year'] + '}' for h in teach[\"utaustin\"]]\n",
    "\n",
    "    with open(tex_path + 'utaustin.tex', 'w') as o:\n",
    "        for s in s_arr:\n",
    "            o.write(s)\n",
    "            o.write('\\n')"
   ]
  },
  {
   "cell_type": "code",
   "execution_count": 6,
   "metadata": {},
   "outputs": [],
   "source": [
    "with open(json_path + 'teach.json') as f:\n",
    "    teach = json.load(f)\n",
    "    s_arr = ['\\\\teach{' + h['Code'] + '}{' + h['Course'] + '}{' + h['Season'] + '}{' + h['Year'] + '}' for h in teach[\"uchicago\"]]\n",
    "\n",
    "    with open(tex_path + 'uchicago.tex', 'w') as o:\n",
    "        for s in s_arr:\n",
    "            o.write(s)\n",
    "            o.write('\\n')"
   ]
  },
  {
   "cell_type": "code",
   "execution_count": 7,
   "metadata": {},
   "outputs": [],
   "source": [
    "with open(json_path + 'teach.json') as f:\n",
    "    teach = json.load(f)\n",
    "    s_arr = ['\\\\drp{' + h['Name'] + '}{' + h['Topic'] + '}{' + h['Season'] + '}{' + h['Year'] + '}' for h in teach[\"DRP\"]]\n",
    "\n",
    "    with open(tex_path + 'drp.tex', 'w') as o:\n",
    "        for s in s_arr:\n",
    "            o.write(s)\n",
    "            o.write('\\n')"
   ]
  },
  {
   "cell_type": "code",
   "execution_count": 8,
   "metadata": {},
   "outputs": [],
   "source": [
    "with open(json_path + 'teach.json') as f:\n",
    "    teach = json.load(f)\n",
    "    s_arr = ['\\\\drp{' + h['Name'] + '}{' + h['Topic'] + '}{' + h['Season'] + '}{' + h['Year'] + '}' for h in teach[\"REU\"]]\n",
    "\n",
    "    with open(tex_path + 'reu.tex', 'w') as o:\n",
    "        for s in s_arr:\n",
    "            o.write(s)\n",
    "            o.write('\\n')"
   ]
  },
  {
   "cell_type": "code",
   "execution_count": 13,
   "metadata": {},
   "outputs": [],
   "source": [
    "with open(json_path + 'teach.json') as f:\n",
    "    teach = json.load(f)\n",
    "    s_arr = ['\\\\drp{' + h['Name'] + '}{' + h['Topic'] + '}{' + h['Season'] + '}{' + h['Year'] + '}' for h in teach[\"Reading_Course\"]]\n",
    "\n",
    "    with open(tex_path + 'reading_course.tex', 'w') as o:\n",
    "        for s in s_arr:\n",
    "            o.write(s)\n",
    "            o.write('\\n')"
   ]
  },
  {
   "cell_type": "code",
   "execution_count": 12,
   "metadata": {},
   "outputs": [],
   "source": [
    "# with open(json_path + 'education.json') as f:\n",
    "#     education = json.load(f)\n",
    "#     s_arr = ['\\\\education{' + h['Program'] + '}{' + h['School'] + '}{' + h['Start'] + '}{' + h['End'] + '}{' + h['Period'] + '}{' + h['Location'] + '}{' + h['Degree'] + '}{' + (h.get('Note', '')) + '}' for h in education[\"Education\"]]\n",
    "\n",
    "#     with open(tex_path + 'education.tex', 'w') as o:\n",
    "#         for s in s_arr:\n",
    "#             o.write(s)\n",
    "#             o.write('\\n')"
   ]
  },
  {
   "cell_type": "code",
   "execution_count": 8,
   "metadata": {},
   "outputs": [],
   "source": [
    "# with open('../talk.json') as f:\n",
    "#     talk = json.load(f)\n",
    "#     t = talk['Talk']\n",
    "#     t.reverse()\n",
    "#     talk['Talk'] = t\n",
    "\n",
    "# with open('../talk_r.json', 'w') as f:\n",
    "#     json.dump(talk, f)"
   ]
  }
 ],
 "metadata": {
  "kernelspec": {
   "display_name": "tf",
   "language": "python",
   "name": "python3"
  },
  "language_info": {
   "codemirror_mode": {
    "name": "ipython",
    "version": 3
   },
   "file_extension": ".py",
   "mimetype": "text/x-python",
   "name": "python",
   "nbconvert_exporter": "python",
   "pygments_lexer": "ipython3",
   "version": "3.10.6"
  },
  "orig_nbformat": 4
 },
 "nbformat": 4,
 "nbformat_minor": 2
}
